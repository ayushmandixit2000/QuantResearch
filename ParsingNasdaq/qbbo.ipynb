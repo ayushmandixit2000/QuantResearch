{
 "cells": [
  {
   "cell_type": "code",
   "execution_count": 1,
   "metadata": {
    "deletable": false,
    "editable": false
   },
   "outputs": [],
   "source": [
    "# Initialize Otter\n",
    "import otter\n",
    "grader = otter.Notebook(\"qbbo.ipynb\")"
   ]
  },
  {
   "cell_type": "code",
   "execution_count": 2,
   "metadata": {},
   "outputs": [],
   "source": [
    "import pandas as pd\n",
    "import numpy as np\n",
    "%matplotlib inline\n",
    "import otter\n",
    "grader = otter.Notebook()\n",
    "\n",
    "QBBO_PATH = '04222019.QBBO_21_C-decal'"
   ]
  },
  {
   "cell_type": "markdown",
   "metadata": {},
   "source": [
    "# Parsing QBBO\n",
    "\n",
    "QBBO is NASDAQ's level 1 market data protocol. You can [read its specification online](https://www.nasdaqtrader.com/content/technicalsupport/specifications/dataproducts/QBBOSpecification2.1.pdf). This protocol consists of a repeated series of a message length then a message.\n",
    "\n",
    "Let's start with some helper functions:"
   ]
  },
  {
   "cell_type": "code",
   "execution_count": 3,
   "metadata": {},
   "outputs": [],
   "source": [
    "import datetime\n",
    "\n",
    "def read_int(raw_bytes):\n",
    "    return int.from_bytes(raw_bytes, byteorder='big')\n",
    "\n",
    "def read_string(raw_bytes):\n",
    "    return raw_bytes.decode('ascii')\n",
    "\n",
    "def parse_timestamp(ns_since_midnight):\n",
    "    midnight = datetime.datetime(2019, 4, 22)\n",
    "    delta = datetime.timedelta(seconds=ns_since_midnight / 1e9)\n",
    "    return midnight + delta"
   ]
  },
  {
   "cell_type": "markdown",
   "metadata": {
    "deletable": false,
    "editable": false
   },
   "source": [
    "**Question 1:** QBBO consists of a series of messages, each consisting of two bytes for length. For example, see the following:\n",
    "\n",
    "```\n",
    "00 06 aa bb cc dd ee ff 00 04 14 01 48 03\n",
    "[len] [    message    ] [len] [ message ]\n",
    "```\n",
    "\n",
    "The above contains two messages:\n",
    "1. `aa bb cc dd ee ff`\n",
    "2. `14 01 48 03`\n",
    "\n",
    "A file `04222019.QBBO_21_C-decal` has been provided alongside this assignemnt. It contains real NASDAQ QBBO market data, filtered to only contain system messages and a few tickers (to reduce the size of the download).\n",
    "\n",
    "Read this file, yielding each message's content."
   ]
  },
  {
   "cell_type": "code",
   "execution_count": 4,
   "metadata": {},
   "outputs": [],
   "source": [
    "def read_qbbo_messages(file_path):\n",
    "    with open(file_path, 'rb') as file:\n",
    "        while True:\n",
    "            len_bytes = file.read(2)\n",
    "            \n",
    "            message_length = read_int(len_bytes)\n",
    "            message = file.read(message_length)\n",
    "\n",
    "            yield message"
   ]
  },
  {
   "cell_type": "code",
   "execution_count": 5,
   "metadata": {
    "tags": []
   },
   "outputs": [],
   "source": [
    "test_reader = read_qbbo_messages(QBBO_PATH)\n",
    "assert next(test_reader) == b'S\\x00\\x00\\n\\x04L`09O'\n",
    "assert next(test_reader) == b'S\\x00\\x00\\r\\x18\\xc2\\xe5B\\xedS'"
   ]
  },
  {
   "cell_type": "code",
   "execution_count": 6,
   "metadata": {
    "deletable": false,
    "editable": false
   },
   "outputs": [
    {
     "data": {
      "text/html": [
       "<p><strong><pre style='display: inline;'>q1</pre></strong> passed! 🚀</p>"
      ],
      "text/plain": [
       "q1 results: All test cases passed!"
      ]
     },
     "execution_count": 6,
     "metadata": {},
     "output_type": "execute_result"
    }
   ],
   "source": [
    "grader.check(\"q1\")"
   ]
  },
  {
   "cell_type": "markdown",
   "metadata": {
    "deletable": false,
    "editable": false
   },
   "source": [
    "**Question 2:** Parse system event messages according to the spec."
   ]
  },
  {
   "cell_type": "code",
   "execution_count": 7,
   "metadata": {
    "tags": []
   },
   "outputs": [],
   "source": [
    "def parse_system_event(message):\n",
    "    event_code_map = {\n",
    "        'O': 'Start of Transmissions', \n",
    "        'S': 'Start of System Hours', \n",
    "        'Q': 'Start of Market Hours',\n",
    "        'M': 'End of Market Hours',\n",
    "        'E': 'End of System Hours',\n",
    "        'C': 'End of Transmissions',\n",
    "    }\n",
    "    \n",
    "    message_type = message[0:1]\n",
    "    tracking_no = message[1:3]\n",
    "    timestamp = message[3:9]\n",
    "    event_code = message[9:10]\n",
    "\n",
    "    return {\n",
    "        'type': 'S',\n",
    "        'timestamp':parse_timestamp(read_int(timestamp)),\n",
    "        'event': event_code_map[read_string(event_code)]\n",
    "    }"
   ]
  },
  {
   "cell_type": "code",
   "execution_count": 8,
   "metadata": {
    "deletable": false,
    "editable": false
   },
   "outputs": [
    {
     "data": {
      "text/html": [
       "<p><strong><pre style='display: inline;'>q2</pre></strong> passed! 🙌</p>"
      ],
      "text/plain": [
       "q2 results: All test cases passed!"
      ]
     },
     "execution_count": 8,
     "metadata": {},
     "output_type": "execute_result"
    }
   ],
   "source": [
    "grader.check(\"q2\")"
   ]
  },
  {
   "cell_type": "markdown",
   "metadata": {
    "deletable": false,
    "editable": false
   },
   "source": [
    "**Question 3:** Parse quotation messages"
   ]
  },
  {
   "cell_type": "code",
   "execution_count": 9,
   "metadata": {
    "tags": []
   },
   "outputs": [],
   "source": [
    "def parse_quotation(message):\n",
    "    timestamp = parse_timestamp(read_int(message[3:9]))\n",
    "    ticker = read_string(message[9:17]).strip()\n",
    "    bid_price = read_int(message[18:22]) / 10000\n",
    "    bid_size = read_int(message[22:26])\n",
    "    ask_price = read_int(message[26:30]) / 10000\n",
    "    ask_size = read_int(message[30:34])\n",
    "    \n",
    "    return {\n",
    "        'type': 'Q',\n",
    "        'timestamp': timestamp,\n",
    "        'ticker': ticker,\n",
    "        'bid_price': bid_price,\n",
    "        'bid_size': bid_size,\n",
    "        'ask_price': ask_price,\n",
    "        'ask_size': ask_size\n",
    "    }\n"
   ]
  },
  {
   "cell_type": "code",
   "execution_count": 10,
   "metadata": {
    "tags": []
   },
   "outputs": [],
   "source": [
    "assert parse_quotation(b'Q\\x00\\x00\\r\\x18\\xc3\\xe4\\xa9GMSFT    Q\\x00\\x0c5\\x00\\x00\\x00\\x00d\\x00\\x00\\x00\\x00\\x00\\x00\\x00\\x00') == {\n",
    "    'type': 'Q',\n",
    "    'timestamp': datetime.datetime(2019, 4, 22, 4, 0, 0, 16919),\n",
    "    'ticker': 'MSFT',\n",
    "    'bid_price': 80.0,\n",
    "    'bid_size': 100,\n",
    "    'ask_price': 0.0,\n",
    "    'ask_size': 0\n",
    "}"
   ]
  },
  {
   "cell_type": "code",
   "execution_count": 11,
   "metadata": {
    "deletable": false,
    "editable": false
   },
   "outputs": [
    {
     "data": {
      "text/html": [
       "<p><strong><pre style='display: inline;'>q3</pre></strong> passed! 🎉</p>"
      ],
      "text/plain": [
       "q3 results: All test cases passed!"
      ]
     },
     "execution_count": 11,
     "metadata": {},
     "output_type": "execute_result"
    }
   ],
   "source": [
    "grader.check(\"q3\")"
   ]
  },
  {
   "cell_type": "markdown",
   "metadata": {
    "deletable": false,
    "editable": false
   },
   "source": [
    "**Question 4:** Parse a message using its message type (the first character). Use the functions you wrote above."
   ]
  },
  {
   "cell_type": "code",
   "execution_count": 12,
   "metadata": {
    "tags": []
   },
   "outputs": [],
   "source": [
    "def parse_message(message):\n",
    "    event_type = read_string(message[:1])\n",
    "    if event_type == 'S':\n",
    "        return parse_system_event(message)\n",
    "    elif event_type == 'Q':\n",
    "        return parse_quotation(message)\n",
    "    else:\n",
    "        return {\n",
    "            'type': 'Others',\n",
    "            'timestamp': datetime.datetime(2019, 4, 22, 4, 0, 0, 16919),\n",
    "        }\n",
    "        \n",
    "    "
   ]
  },
  {
   "cell_type": "code",
   "execution_count": 13,
   "metadata": {
    "tags": []
   },
   "outputs": [],
   "source": [
    "assert parse_message(b'S\\x00\\x00\\n\\x04L`09O') == {\n",
    "    'type': 'S',\n",
    "    'timestamp': datetime.datetime(2019, 4, 22, 3, 3, 33, 577519),\n",
    "    'event': 'Start of Transmissions',\n",
    "}"
   ]
  },
  {
   "cell_type": "code",
   "execution_count": 14,
   "metadata": {
    "tags": []
   },
   "outputs": [],
   "source": [
    "assert parse_message(b'Q\\x00\\x00\\r\\x18\\xc3\\xe4\\xa9GMSFT    Q\\x00\\x0c5\\x00\\x00\\x00\\x00d\\x00\\x00\\x00\\x00\\x00\\x00\\x00\\x00') == {\n",
    "    'type': 'Q',\n",
    "    'timestamp': datetime.datetime(2019, 4, 22, 4, 0, 0, 16919),\n",
    "    'ticker': 'MSFT',\n",
    "    'bid_price': 80.0,\n",
    "    'bid_size': 100,\n",
    "    'ask_price': 0.0,\n",
    "    'ask_size': 0\n",
    "}"
   ]
  },
  {
   "cell_type": "code",
   "execution_count": 15,
   "metadata": {
    "deletable": false,
    "editable": false
   },
   "outputs": [
    {
     "data": {
      "text/html": [
       "<p><strong><pre style='display: inline;'>q4</pre></strong> passed! 🎉</p>"
      ],
      "text/plain": [
       "q4 results: All test cases passed!"
      ]
     },
     "execution_count": 15,
     "metadata": {},
     "output_type": "execute_result"
    }
   ],
   "source": [
    "grader.check(\"q4\")"
   ]
  },
  {
   "cell_type": "markdown",
   "metadata": {
    "deletable": false,
    "editable": false
   },
   "source": [
    "**Question 5:** Now, write a function to read a QBBO file and yield parsed messages. Use the functions you wrote above."
   ]
  },
  {
   "cell_type": "code",
   "execution_count": 16,
   "metadata": {
    "tags": []
   },
   "outputs": [],
   "source": [
    "def read_qbbo_messages_parsed(path):\n",
    "    msg_gen = read_qbbo_messages(path)\n",
    "\n",
    "    while True:\n",
    "        msg = next(msg_gen)\n",
    "        yield parse_message(msg)\n",
    "        "
   ]
  },
  {
   "cell_type": "code",
   "execution_count": 17,
   "metadata": {
    "tags": []
   },
   "outputs": [],
   "source": [
    "test_reader = read_qbbo_messages_parsed(QBBO_PATH)\n",
    "assert next(test_reader) == {\n",
    "    'type': 'S',\n",
    "    'timestamp': datetime.datetime(2019, 4, 22, 3, 3, 33, 577519),\n",
    "    'event': 'Start of Transmissions'\n",
    "}\n",
    "assert next(test_reader) == {\n",
    "    'type': 'S',\n",
    "    'timestamp': datetime.datetime(2019, 4, 22, 4, 0, 0, 181),\n",
    "    'event': 'Start of System Hours'\n",
    "}\n",
    "assert next(test_reader) == {\n",
    "    'type': 'Q',\n",
    "    'timestamp': datetime.datetime(2019, 4, 22, 4, 0, 0, 16919),\n",
    "    'ticker': 'MSFT',\n",
    "    'bid_price': 80.0,\n",
    "    'bid_size': 100,\n",
    "    'ask_price': 0.0,\n",
    "    'ask_size': 0\n",
    "}"
   ]
  },
  {
   "cell_type": "code",
   "execution_count": 18,
   "metadata": {
    "deletable": false,
    "editable": false
   },
   "outputs": [
    {
     "data": {
      "text/html": [
       "<p><strong><pre style='display: inline;'>q5</pre></strong> passed! 🌈</p>"
      ],
      "text/plain": [
       "q5 results: All test cases passed!"
      ]
     },
     "execution_count": 18,
     "metadata": {},
     "output_type": "execute_result"
    }
   ],
   "source": [
    "grader.check(\"q5\")"
   ]
  },
  {
   "cell_type": "markdown",
   "metadata": {},
   "source": [
    "Congratulations! You can now read real marketdata. Although professional trading systems use ITCH (level 2) instead of QBBO (level 1), the protocols are very similar! You can [read ITCH's spec online](https://www.nasdaqtrader.com/content/technicalsupport/specifications/dataproducts/NQTVITCHSpecification.pdf).\n",
    "\n",
    "Let's do some analysis now that we can read the file."
   ]
  },
  {
   "cell_type": "markdown",
   "metadata": {
    "deletable": false,
    "editable": false
   },
   "source": [
    "**Question 6:** Which tickers are included in this file? Write a function that returns a set of ticker names"
   ]
  },
  {
   "cell_type": "code",
   "execution_count": 19,
   "metadata": {
    "tags": []
   },
   "outputs": [],
   "source": [
    "def tickers_set(path):\n",
    "    out = set()\n",
    "    q_encountered = False\n",
    "    for message in read_qbbo_messages_parsed(path):\n",
    "        if message['type'] == 'Q':\n",
    "            out.add(message['ticker'])\n",
    "            q_encountered = True\n",
    "        elif q_encountered:\n",
    "            break\n",
    "    return out"
   ]
  },
  {
   "cell_type": "code",
   "execution_count": 20,
   "metadata": {
    "tags": []
   },
   "outputs": [],
   "source": [
    "assert len(tickers_set(QBBO_PATH)) == 4"
   ]
  },
  {
   "cell_type": "code",
   "execution_count": 21,
   "metadata": {
    "deletable": false,
    "editable": false
   },
   "outputs": [
    {
     "data": {
      "text/html": [
       "<p><strong><pre style='display: inline;'>q6</pre></strong> passed! 🌈</p>"
      ],
      "text/plain": [
       "q6 results: All test cases passed!"
      ]
     },
     "execution_count": 21,
     "metadata": {},
     "output_type": "execute_result"
    }
   ],
   "source": [
    "grader.check(\"q6\")"
   ]
  },
  {
   "cell_type": "markdown",
   "metadata": {},
   "source": [
    "Finally, let's plot the market of `$MSFT`. This part is ungraded:"
   ]
  },
  {
   "cell_type": "code",
   "execution_count": null,
   "metadata": {},
   "outputs": [],
   "source": [
    "X_bid = []\n",
    "Y_bid = []\n",
    "\n",
    "X_ask = []\n",
    "Y_ask = []\n",
    "for message in read_qbbo_messages_parsed(QBBO_PATH):\n",
    "    if 'ticker' in message and (message['timestamp'].hour < 10 or message['timestamp'].hour > 15):\n",
    "        continue # Skip most out-of-market-hours messages\n",
    "    if message['type'] == 'Q' and message['ticker'] == 'MSFT':\n",
    "        if message['bid_price'] > 0:\n",
    "            X_bid.append(message['timestamp'])\n",
    "            Y_bid.append(message['bid_price'])\n",
    "        if message['ask_price'] > 0:\n",
    "            X_ask.append(message['timestamp'])\n",
    "            Y_ask.append(message['ask_price'])\n",
    "        \n",
    "\n",
    "import matplotlib.pyplot as plt\n",
    "plt.figure(figsize=(10, 5))\n",
    "plt.plot(X_ask, Y_ask, label='Ask', color='blue')\n",
    "plt.plot(X_bid, Y_bid, label='Bid', color='red')\n",
    "plt.legend()"
   ]
  },
  {
   "cell_type": "markdown",
   "metadata": {
    "deletable": false,
    "editable": false
   },
   "source": [
    "## Submission\n",
    "\n",
    "Make sure you have run all cells in your notebook in order before running the cell below, so that all images/graphs appear in the output. The cell below will generate a zip file for you to submit. **Please save before exporting!**"
   ]
  },
  {
   "cell_type": "code",
   "execution_count": null,
   "metadata": {
    "deletable": false,
    "editable": false
   },
   "outputs": [],
   "source": [
    "# Save your notebook first, then run this cell to export your submission.\n",
    "grader.export(run_tests=True)"
   ]
  },
  {
   "cell_type": "markdown",
   "metadata": {},
   "source": [
    " "
   ]
  }
 ],
 "metadata": {
  "kernelspec": {
   "display_name": "Python 3 (ipykernel)",
   "language": "python",
   "name": "python3"
  },
  "language_info": {
   "codemirror_mode": {
    "name": "ipython",
    "version": 3
   },
   "file_extension": ".py",
   "mimetype": "text/x-python",
   "name": "python",
   "nbconvert_exporter": "python",
   "pygments_lexer": "ipython3",
   "version": "3.8.17"
  },
  "otter": {
   "OK_FORMAT": true,
   "tests": {
    "q1": {
     "name": "q1",
     "points": null,
     "suites": [
      {
       "cases": [
        {
         "code": ">>> test_reader = read_qbbo_messages(QBBO_PATH)\n>>> assert next(test_reader) == b'S\\x00\\x00\\n\\x04L`09O'\n>>> assert next(test_reader) == b'S\\x00\\x00\\r\\x18\\xc2\\xe5B\\xedS'\n",
         "hidden": false,
         "locked": false
        }
       ],
       "scored": true,
       "setup": "",
       "teardown": "",
       "type": "doctest"
      }
     ]
    },
    "q2": {
     "name": "q2",
     "points": null,
     "suites": [
      {
       "cases": [
        {
         "code": ">>> assert parse_system_event(b'S\\x00\\x00\\n\\x04L`09O') == {'type': 'S', 'timestamp': datetime.datetime(2019, 4, 22, 3, 3, 33, 577519), 'event': 'Start of Transmissions'}\n",
         "hidden": false,
         "locked": false
        },
        {
         "code": ">>> assert parse_system_event(b'S\\x00\\x00\\r\\x18\\xc2\\xe5B\\xedS') == {'type': 'S', 'timestamp': datetime.datetime(2019, 4, 22, 4, 0, 0, 181), 'event': 'Start of System Hours'}\n",
         "hidden": false,
         "locked": false
        }
       ],
       "scored": true,
       "setup": "",
       "teardown": "",
       "type": "doctest"
      }
     ]
    },
    "q3": {
     "name": "q3",
     "points": null,
     "suites": [
      {
       "cases": [
        {
         "code": ">>> assert parse_quotation(b'Q\\x00\\x00\\r\\x18\\xc3\\xe4\\xa9GMSFT    Q\\x00\\x0c5\\x00\\x00\\x00\\x00d\\x00\\x00\\x00\\x00\\x00\\x00\\x00\\x00') == {'type': 'Q', 'timestamp': datetime.datetime(2019, 4, 22, 4, 0, 0, 16919), 'ticker': 'MSFT', 'bid_price': 80.0, 'bid_size': 100, 'ask_price': 0.0, 'ask_size': 0}\n",
         "hidden": false,
         "locked": false
        }
       ],
       "scored": true,
       "setup": "",
       "teardown": "",
       "type": "doctest"
      }
     ]
    },
    "q4": {
     "name": "q4",
     "points": null,
     "suites": [
      {
       "cases": [
        {
         "code": ">>> assert parse_message(b'S\\x00\\x00\\n\\x04L`09O') == {'type': 'S', 'timestamp': datetime.datetime(2019, 4, 22, 3, 3, 33, 577519), 'event': 'Start of Transmissions'}\n",
         "hidden": false,
         "locked": false
        },
        {
         "code": ">>> assert parse_message(b'Q\\x00\\x00\\r\\x18\\xc3\\xe4\\xa9GMSFT    Q\\x00\\x0c5\\x00\\x00\\x00\\x00d\\x00\\x00\\x00\\x00\\x00\\x00\\x00\\x00') == {'type': 'Q', 'timestamp': datetime.datetime(2019, 4, 22, 4, 0, 0, 16919), 'ticker': 'MSFT', 'bid_price': 80.0, 'bid_size': 100, 'ask_price': 0.0, 'ask_size': 0}\n",
         "hidden": false,
         "locked": false
        }
       ],
       "scored": true,
       "setup": "",
       "teardown": "",
       "type": "doctest"
      }
     ]
    },
    "q5": {
     "name": "q5",
     "points": null,
     "suites": [
      {
       "cases": [
        {
         "code": ">>> test_reader = read_qbbo_messages_parsed(QBBO_PATH)\n>>> assert next(test_reader) == {'type': 'S', 'timestamp': datetime.datetime(2019, 4, 22, 3, 3, 33, 577519), 'event': 'Start of Transmissions'}\n>>> assert next(test_reader) == {'type': 'S', 'timestamp': datetime.datetime(2019, 4, 22, 4, 0, 0, 181), 'event': 'Start of System Hours'}\n>>> assert next(test_reader) == {'type': 'Q', 'timestamp': datetime.datetime(2019, 4, 22, 4, 0, 0, 16919), 'ticker': 'MSFT', 'bid_price': 80.0, 'bid_size': 100, 'ask_price': 0.0, 'ask_size': 0}\n",
         "hidden": false,
         "locked": false
        }
       ],
       "scored": true,
       "setup": "",
       "teardown": "",
       "type": "doctest"
      }
     ]
    },
    "q6": {
     "name": "q6",
     "points": null,
     "suites": [
      {
       "cases": [
        {
         "code": ">>> assert len(tickers_set(QBBO_PATH)) == 4\n",
         "hidden": false,
         "locked": false
        }
       ],
       "scored": true,
       "setup": "",
       "teardown": "",
       "type": "doctest"
      }
     ]
    }
   }
  },
  "varInspector": {
   "cols": {
    "lenName": 16,
    "lenType": 16,
    "lenVar": 40
   },
   "kernels_config": {
    "python": {
     "delete_cmd_postfix": "",
     "delete_cmd_prefix": "del ",
     "library": "var_list.py",
     "varRefreshCmd": "print(var_dic_list())"
    },
    "r": {
     "delete_cmd_postfix": ") ",
     "delete_cmd_prefix": "rm(",
     "library": "var_list.r",
     "varRefreshCmd": "cat(var_dic_list()) "
    }
   },
   "types_to_exclude": [
    "module",
    "function",
    "builtin_function_or_method",
    "instance",
    "_Feature"
   ],
   "window_display": false
  }
 },
 "nbformat": 4,
 "nbformat_minor": 4
}
